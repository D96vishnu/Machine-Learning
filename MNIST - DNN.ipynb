{
 "cells": [
  {
   "cell_type": "code",
   "execution_count": 1,
   "metadata": {},
   "outputs": [
    {
     "name": "stdout",
     "output_type": "stream",
     "text": [
      "Extracting /tmp/data/train-images-idx3-ubyte.gz\n",
      "Extracting /tmp/data/train-labels-idx1-ubyte.gz\n",
      "Extracting /tmp/data/t10k-images-idx3-ubyte.gz\n",
      "Extracting /tmp/data/t10k-labels-idx1-ubyte.gz\n"
     ]
    }
   ],
   "source": [
    "import tensorflow as tf\n",
    "from tensorflow.examples.tutorials.mnist import input_data\n",
    "mnist = input_data.read_data_sets(\"/tmp/data/\", one_hot = True) \n",
    "#one_hot indicates one is on and the rest is off\n",
    "'''\n",
    "10 classes : 0 - 9\n",
    "with one_hot, 0 = [1,0,0,0,0,0,0,0,0,0]\n",
    "1 = [0,1,.....]\n",
    "...\n",
    "'''\n",
    "hl1 = 500\n",
    "hl2 = 500\n",
    "hl3 = 500\n",
    "\n",
    "classes = 10\n",
    "batch_size = 100\n",
    "\n",
    "x = tf.placeholder('float',[None,784])\n",
    "y = tf.placeholder('float')\n",
    "\n"
   ]
  },
  {
   "cell_type": "code",
   "execution_count": 2,
   "metadata": {
    "collapsed": true
   },
   "outputs": [],
   "source": [
    "#computation graph modelling\n",
    "def nn_model(data):\n",
    "    hidden_l1 = {'weights' : tf.Variable(tf.random_normal([784,hl1])),\n",
    "                 'biases' : tf.Variable(tf.random_normal([hl1]))}\n",
    "    \n",
    "    hidden_l2 = {'weights' : tf.Variable(tf.random_normal([hl1,hl2])),\n",
    "                 'biases' : tf.Variable(tf.random_normal([hl2]))}\n",
    "    \n",
    "    hidden_l3 = {'weights' : tf.Variable(tf.random_normal([hl2,hl3])),\n",
    "                 'biases' : tf.Variable(tf.random_normal([hl3]))}\n",
    "    \n",
    "    output_l = {'weights' : tf.Variable(tf.random_normal([hl3,classes])),\n",
    "                 'biases' : tf.Variable(tf.random_normal([classes]))}\n",
    "    \n",
    "    l1 = tf.add(tf.matmul(data,hidden_l1['weights']), hidden_l1['biases'])\n",
    "    l1 = tf.nn.relu(l1)\n",
    "    \n",
    "    l2 = tf.add(tf.matmul(l1,hidden_l2['weights']), hidden_l2['biases'])\n",
    "    l2 = tf.nn.relu(l2)\n",
    "    \n",
    "    l3 = tf.add(tf.matmul(l2,hidden_l3['weights']), hidden_l3['biases'])\n",
    "    l3 = tf.nn.relu(l3)\n",
    "    \n",
    "    output = tf.matmul(l3 , output_l['weights']) + output_l['biases']\n",
    "    return output "
   ]
  },
  {
   "cell_type": "code",
   "execution_count": 12,
   "metadata": {
    "collapsed": true
   },
   "outputs": [],
   "source": [
    "def train_nn(x):\n",
    "    prediction = nn_model(x)\n",
    "    cost = tf.reduce_mean(tf.nn.softmax_cross_entropy_with_logits(logits=prediction,labels=y))\n",
    "    optimize = tf.train.AdamOptimizer().minimize(cost)\n",
    "    \n",
    "    epoch = 50 #Forward propagation + Back propagation\n",
    "    \n",
    "    with tf.Session() as sess:\n",
    "        sess.run(tf.global_variables_initializer())\n",
    "        \n",
    "        for ep in range(epoch):\n",
    "            ep_loss = 0\n",
    "            for _ in range(int(mnist.train.num_examples/batch_size)):\n",
    "                ep_x, ep_y = mnist.train.next_batch(batch_size)\n",
    "                _,c = sess.run([optimize,cost], feed_dict = {x:ep_x, y:ep_y})\n",
    "                ep_loss += c\n",
    "            print('Epoch',ep+1, 'Completed out of',epoch,'loss',ep_loss)\n",
    "        \n",
    "        \n",
    "        correct = tf.equal(tf.argmax(prediction,1), tf.argmax(y,1))\n",
    "        accuracy = tf.reduce_mean(tf.cast(correct,'float'))\n",
    "        print('Accuracy', accuracy.eval({x:mnist.test.images, y : mnist.test.labels})) "
   ]
  },
  {
   "cell_type": "code",
   "execution_count": 13,
   "metadata": {},
   "outputs": [
    {
     "name": "stdout",
     "output_type": "stream",
     "text": [
      "Epoch 1 Completed out of 30 loss 1755598.60078\n",
      "Epoch 2 Completed out of 30 loss 400525.887959\n",
      "Epoch 3 Completed out of 30 loss 216067.946917\n",
      "Epoch 4 Completed out of 30 loss 126569.577426\n",
      "Epoch 5 Completed out of 30 loss 75057.9432671\n",
      "Epoch 6 Completed out of 30 loss 50666.4518407\n",
      "Epoch 7 Completed out of 30 loss 32566.4796038\n",
      "Epoch 8 Completed out of 30 loss 24732.8536736\n",
      "Epoch 9 Completed out of 30 loss 17772.4820747\n",
      "Epoch 10 Completed out of 30 loss 17301.8479756\n",
      "Epoch 11 Completed out of 30 loss 16613.6266497\n",
      "Epoch 12 Completed out of 30 loss 16424.0773478\n",
      "Epoch 13 Completed out of 30 loss 17264.0500279\n",
      "Epoch 14 Completed out of 30 loss 13517.1330419\n",
      "Epoch 15 Completed out of 30 loss 14313.7526304\n",
      "Epoch 16 Completed out of 30 loss 10444.3708458\n",
      "Epoch 17 Completed out of 30 loss 11669.9757331\n",
      "Epoch 18 Completed out of 30 loss 10625.9035643\n",
      "Epoch 19 Completed out of 30 loss 9542.86779408\n",
      "Epoch 20 Completed out of 30 loss 10516.8913948\n",
      "Epoch 21 Completed out of 30 loss 8342.12726078\n",
      "Epoch 22 Completed out of 30 loss 7219.96096452\n",
      "Epoch 23 Completed out of 30 loss 10357.3521573\n",
      "Epoch 24 Completed out of 30 loss 9057.50019269\n",
      "Epoch 25 Completed out of 30 loss 5505.31149445\n",
      "Epoch 26 Completed out of 30 loss 8500.20965242\n",
      "Epoch 27 Completed out of 30 loss 7844.84271516\n",
      "Epoch 28 Completed out of 30 loss 7653.86557137\n",
      "Epoch 29 Completed out of 30 loss 5777.4363875\n",
      "Epoch 30 Completed out of 30 loss 6368.63341129\n",
      "Accuracy 0.9647\n"
     ]
    }
   ],
   "source": [
    "train_nn(x)"
   ]
  },
  {
   "cell_type": "code",
   "execution_count": null,
   "metadata": {
    "collapsed": true
   },
   "outputs": [],
   "source": []
  }
 ],
 "metadata": {
  "kernelspec": {
   "display_name": "Python 3",
   "language": "python",
   "name": "python3"
  },
  "language_info": {
   "codemirror_mode": {
    "name": "ipython",
    "version": 3
   },
   "file_extension": ".py",
   "mimetype": "text/x-python",
   "name": "python",
   "nbconvert_exporter": "python",
   "pygments_lexer": "ipython3",
   "version": "3.6.3"
  }
 },
 "nbformat": 4,
 "nbformat_minor": 2
}
